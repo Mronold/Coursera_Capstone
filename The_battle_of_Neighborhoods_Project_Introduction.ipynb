{
 "cells": [
  {
   "cell_type": "markdown",
   "metadata": {},
   "source": [
    "# Final Assignment - The Battle of Neighborhoods - Week 1\n",
    "### By: Håkon Ronold Mathisen"
   ]
  },
  {
   "cell_type": "markdown",
   "metadata": {},
   "source": [
    "## About"
   ]
  },
  {
   "cell_type": "markdown",
   "metadata": {},
   "source": [
    "This assignment marks the end of the IBM Data Science Professional Certificate. As a final task we were challenged to, based on what we have learned during the Capstone course (final course in the IBM Data Science Professional Certificate), come up with a problem that we use the Foursquare location API to solve. "
   ]
  },
  {
   "cell_type": "markdown",
   "metadata": {},
   "source": [
    "## Introduction & Business Problem"
   ]
  },
  {
   "cell_type": "markdown",
   "metadata": {},
   "source": [
    "Using the Foursquare API we have access to large number of interesting geolocations and venue information (e.g. restaurant reviews and coordinates). This gives us the opportunity to research where, based on information about venues in neighborhoods/areas, a new restaurant should be placed. "
   ]
  },
  {
   "cell_type": "markdown",
   "metadata": {},
   "source": [
    "My business problem for this assignment will be the following: \n",
    "- *A client has requested me to find the best possible location for her Food Truck in Berlin, Germany.*"
   ]
  },
  {
   "cell_type": "markdown",
   "metadata": {},
   "source": [
    "With the following requirements:\n",
    "\n",
    "- It should be in one of the more central boroughs of Berlin\n",
    "- It should be in the neighborhood that maximizes her potential and predicted customer base. "
   ]
  },
  {
   "cell_type": "markdown",
   "metadata": {},
   "source": [
    "To solve this business problem I will need to research the best possible neighborhood by locating venues/locations where potential customers reside. This could be office spaces, sport arenas etc. As the client only has one single Food Truck, I need to find the best suitable neighborhood to place it. "
   ]
  },
  {
   "cell_type": "markdown",
   "metadata": {},
   "source": [
    "## Data Description"
   ]
  },
  {
   "cell_type": "markdown",
   "metadata": {},
   "source": [
    "Berlin is the capital and the largest city of Germany. It has a huge number of exciting restaurants and incredible nightlife, renowned universities and beautiful architecture. Berlin's 3.7 million inhabitants  live across 13 different boroughs (“Bezirk”) in 96 official recognized localities (“Ortsteil”). "
   ]
  },
  {
   "cell_type": "markdown",
   "metadata": {},
   "source": [
    "#### Boroughs and Localities "
   ]
  },
  {
   "cell_type": "markdown",
   "metadata": {},
   "source": [
    "The first thing I need to do is to find an overview of the 13 boroughs and their localities. This information has been gathered from Wikipedia: \n",
    "\n",
    "Boroughs: \n",
    "- Charlottenburg-Wilmersdorf\n",
    "- Friedrichshain-Kreuzberg\n",
    "- Lichtenberg\n",
    "- Marzahn-Hellersdorf\n",
    "- Mitte\n",
    "- Neukölln\n",
    "- Pankow\n",
    "- Renickendorf\n",
    "- Spandau\n",
    "- Steglitz-Zehlendorf\n",
    "- Tempelhof-Schöneberg\n",
    "- Treptow-Köpenick\n",
    "\n",
    "Their corresponding neighborhoods are also found using wikipedia. "
   ]
  },
  {
   "cell_type": "markdown",
   "metadata": {},
   "source": [
    "As one of the requirements was to place the foodtruck in a neighborhood within one of the more central boroughs, I can already start to eliminate some of them. I end up with the following 6 boroughs: Mitte, Friedrichshain-Kreuzberg, Neukölln, Charlottenburg-Wilmersdorf, Tempelhof-Schöneberg and Pankow. The amount of localities/neighborhoods have been reduced to 39."
   ]
  },
  {
   "cell_type": "markdown",
   "metadata": {},
   "source": [
    "#### Coordinates "
   ]
  },
  {
   "cell_type": "markdown",
   "metadata": {},
   "source": [
    "To find the coordinates of the boroughs and their corresponding localities/neighborhoods I simply need to parse them to a geocoder. This will be done using the Nominatim Geolocator used in one of our previous assignments. \n",
    "After retriving the appropriate coordinates, I can use them to locate nearby venues. "
   ]
  },
  {
   "cell_type": "markdown",
   "metadata": {},
   "source": [
    "####  Venues"
   ]
  },
  {
   "cell_type": "markdown",
   "metadata": {},
   "source": [
    "To be able to decide where to place the food truck I need to find nearby venues that could potentially attract (*positive*) and also potentially reduce (*negative*) the amount of customers. If I assign a positive value for each positive venue and a negative value for each negative venue, I could deduce which neighborhood is most suitable by looking at the score.  \n",
    "\n",
    "Venues that should attract customers: \n",
    "- Office spaces (Foursquare category ID: 4bf58dd8d48988d124941735)\n",
    "- Universities, Colleges (Foursquare category ID: 4d4b7105d754a06372d81259)\n",
    "- Shopping malls (Foursquare category ID: 4bf58dd8d48988d1fd941735)\n",
    "\n",
    "Venues that could potentially reduce the amount of customers:\n",
    "- Comparable competition\n",
    "- Food trucks (Foursquare Category ID: 4bf58dd8d48988d1cb941735)\n",
    "- Burger joints (Foursquare Category ID: 4bf58dd8d48988d16c941735)\n",
    "- Pizza places (Foursquare Category ID: 4bf58dd8d48988d1ca941735)\n",
    "- Hot Dog Joint (Foursquare Category ID: 4bf58dd8d48988d16f941735) "
   ]
  },
  {
   "cell_type": "markdown",
   "metadata": {},
   "source": [
    "I will find the each Neighborhood's venues by using the Foursquare API based on the coordinates. I can easily filter on appropriate venue category to find a specific venue. "
   ]
  },
  {
   "cell_type": "code",
   "execution_count": null,
   "metadata": {},
   "outputs": [],
   "source": []
  }
 ],
 "metadata": {
  "kernelspec": {
   "display_name": "Python 3",
   "language": "python",
   "name": "python3"
  },
  "language_info": {
   "codemirror_mode": {
    "name": "ipython",
    "version": 3
   },
   "file_extension": ".py",
   "mimetype": "text/x-python",
   "name": "python",
   "nbconvert_exporter": "python",
   "pygments_lexer": "ipython3",
   "version": "3.7.1"
  }
 },
 "nbformat": 4,
 "nbformat_minor": 2
}
