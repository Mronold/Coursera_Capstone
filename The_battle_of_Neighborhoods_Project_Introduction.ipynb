{
 "cells": [
  {
   "cell_type": "markdown",
   "metadata": {},
   "source": [
    "# Final Assignment - The Battle of Neighborhoods - Week 1\n",
    "### By: Håkon Ronold Mathisen"
   ]
  },
  {
   "cell_type": "markdown",
   "metadata": {},
   "source": [
    "## About"
   ]
  },
  {
   "cell_type": "markdown",
   "metadata": {},
   "source": [
    "This assignment marks the end of the IBM Data Science Professional Certificate. As a final task we were challenged to, based on what we have learned during the Capstone course (final course in the IBM Data Science Professional Certificate), come up with a problem that we use the Foursquare location API to solve. "
   ]
  },
  {
   "cell_type": "markdown",
   "metadata": {},
   "source": [
    "## Introduction & Business Problem"
   ]
  },
  {
   "cell_type": "markdown",
   "metadata": {},
   "source": [
    "Using the Foursquare API we have access to large number of interesting geolocations and venue information (e.g. restaurant reviews and coordinates). This gives us the opportunity to research where, based on information about venues in neighborhoods/areas, a new restaurant should be placed. "
   ]
  },
  {
   "cell_type": "markdown",
   "metadata": {},
   "source": [
    "My business problem for this assignment will be the following: \n",
    "- *A client has requested me to find the best possible location for her Food Truck in Berlin, Germany.*"
   ]
  },
  {
   "cell_type": "markdown",
   "metadata": {},
   "source": [
    "With the following requirements:\n",
    "\n",
    "- It should be in one of the more central boroughs of Berlin\n",
    "- It should be in the neighborhood that maximizes her potential and predicted customer base. "
   ]
  },
  {
   "cell_type": "markdown",
   "metadata": {},
   "source": [
    "To solve this business problem I will need to research the best possible neighborhood by locating venues/locations where potential customers reside. This could be office spaces, sport arenas etc. As the client only has one single Food Truck, I need to find the best suitable neighborhood to place it. "
   ]
  }
 ],
 "metadata": {
  "kernelspec": {
   "display_name": "Python 3",
   "language": "python",
   "name": "python3"
  },
  "language_info": {
   "codemirror_mode": {
    "name": "ipython",
    "version": 3
   },
   "file_extension": ".py",
   "mimetype": "text/x-python",
   "name": "python",
   "nbconvert_exporter": "python",
   "pygments_lexer": "ipython3",
   "version": "3.7.1"
  }
 },
 "nbformat": 4,
 "nbformat_minor": 2
}
